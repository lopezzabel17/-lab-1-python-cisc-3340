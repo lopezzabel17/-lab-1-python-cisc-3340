{
  "metadata": {
    "kernelspec": {
      "name": "xpython",
      "display_name": "Python 3.13 (XPython)",
      "language": "python"
    },
    "language_info": {
      "file_extension": ".py",
      "mimetype": "text/x-python",
      "name": "python",
      "version": "3.13.1"
    }
  },
  "nbformat_minor": 4,
  "nbformat": 4,
  "cells": [
    {
      "cell_type": "markdown",
      "source": "**This lab introduces the building blocks of programming using Python. You will practice writing simple scripts that use variables, user input, basic expressions, conditionals, and a loop - all concepts explored in WK 1-4.**\n\nThe goal of this lab is to help you:\n\n\t•\tBuild confidence writing and running small pieces of Python code\n\n\t•\tPractice applying logic and control flow to real input\n\n\t•\tStart thinking like a programmer by breaking down tasks into clear steps\n\nYou will submit your work through GitHub and share the link in the assignment tab in Canvas.\n\n**_Remember to write clean, readable code and include comments explaining your thinking._**\n",
      "metadata": {}
    },
    {
      "cell_type": "markdown",
      "source": "**Name (First & Last):**",
      "metadata": {}
    },
    {
      "cell_type": "markdown",
      "source": "Abel Lopez",
      "metadata": {}
    },
    {
      "cell_type": "markdown",
      "source": "**Part 1: Variables & Output**",
      "metadata": {}
    },
    {
      "cell_type": "markdown",
      "source": "1. Create a variable called name and store your name. Print:\nHello, [your name]!",
      "metadata": {}
    },
    {
      "cell_type": "code",
      "source": "#Write your code below:\nname = Abel Lopez\nprint(\"Hello, \" + name)\n\n",
      "metadata": {},
      "outputs": [],
      "execution_count": null
    },
    {
      "cell_type": "markdown",
      "source": "2. Create two variables, a = 3 and b = 7. Print the result of a + b.",
      "metadata": {}
    },
    {
      "cell_type": "code",
      "source": "#Write your code below:\na = 3\nb = 7\nprint(a + b)\n",
      "metadata": {},
      "outputs": [],
      "execution_count": null
    },
    {
      "cell_type": "markdown",
      "source": "3. Assign your favorite number to a variable and print:\nMy favorite number is ___.",
      "metadata": {}
    },
    {
      "cell_type": "code",
      "source": "#Write your code below:\nfav_num = 18\nprint(\"My favorite number is \" + int(fav_num))\n\n",
      "metadata": {},
      "outputs": [],
      "execution_count": null
    },
    {
      "cell_type": "markdown",
      "source": "---",
      "metadata": {}
    },
    {
      "cell_type": "markdown",
      "source": "**Part 2: Input & Strings**",
      "metadata": {}
    },
    {
      "cell_type": "markdown",
      "source": "4. Use input() to ask the user for their hometown. Print a message like:\nI’d love to visit [hometown - insert your hometown] someday!",
      "metadata": {}
    },
    {
      "cell_type": "code",
      "source": "#Write your code below:\nhometown = \"Bronsville\"\nprint(\"I'd love to visit \" + hometown + \" someday\")\n\n",
      "metadata": {},
      "outputs": [],
      "execution_count": null
    },
    {
      "cell_type": "markdown",
      "source": "5. Ask for the user’s birth year. Calculate and print their age using 2025 - birth_year.",
      "metadata": {}
    },
    {
      "cell_type": "code",
      "source": "#Write your code below:\nbirth_year = int(input(\"Enter your birth year: \"))\nage = 2025 - birth_year\nprint(age)\n",
      "metadata": {},
      "outputs": [],
      "execution_count": null
    },
    {
      "cell_type": "markdown",
      "source": "---",
      "metadata": {}
    },
    {
      "cell_type": "markdown",
      "source": "**Part 3: Conditionals & Comparisons**",
      "metadata": {}
    },
    {
      "cell_type": "markdown",
      "source": "6. Write a program that checks if x = 10 is greater than 5. Print True or False.",
      "metadata": {}
    },
    {
      "cell_type": "code",
      "source": "#Write your code below:\nx = 10\nif x > 5:\n    print(\"True\")\nelse:\n    print(\"False\")\n",
      "metadata": {},
      "outputs": [],
      "execution_count": null
    },
    {
      "cell_type": "markdown",
      "source": "7. Ask the user to enter a number. If it’s even, print \"Even number!\"\nHint: Use number % 2 == 0",
      "metadata": {}
    },
    {
      "cell_type": "code",
      "source": "#Write your code below:\nnum = int(input(\"Enter a number: \"))\nif num % 2 == 0:\n    print(\"Even\")\nelse:\n    print(\"Odd\")\n",
      "metadata": {},
      "outputs": [],
      "execution_count": null
    },
    {
      "cell_type": "markdown",
      "source": "8. Ask for the user’s age. If they are under 18, print \"You're a minor!\", else print \"You're an adult!\"\n",
      "metadata": {}
    },
    {
      "cell_type": "code",
      "source": "#Write your code below:\nage = int(input(\"Enter your age: \"))\nif age < 18:\n    print(\"You are a minor!\")\nelse:\n    print(\"You are an adult!\")\n",
      "metadata": {},
      "outputs": [],
      "execution_count": null
    },
    {
      "cell_type": "markdown",
      "source": "---",
      "metadata": {}
    },
    {
      "cell_type": "markdown",
      "source": "**Part 4: Boolean Logic & Loops**",
      "metadata": {}
    },
    {
      "cell_type": "markdown",
      "source": "9. Write a program that sets is_tired = True. If the person is tired, print \"Take a break!\"\nUse an if statement and the not operator to test both conditions.",
      "metadata": {}
    },
    {
      "cell_type": "code",
      "source": "#Write your code below:\nis_tired = True\nif is_tired: \nprint(\"Take a Break!\")\nif not is_tired:\nprint(\"Here we Go\")",
      "metadata": {},
      "outputs": [],
      "execution_count": null
    },
    {
      "cell_type": "markdown",
      "source": "10. Use a for loop to print the numbers 1 to 5 (each on its own line).",
      "metadata": {}
    },
    {
      "cell_type": "code",
      "source": "#Write your code below:\nfor i in range(1, 5):\n    print(i)\n",
      "metadata": {},
      "outputs": [],
      "execution_count": null
    },
    {
      "cell_type": "code",
      "source": "",
      "metadata": {
        "trusted": true
      },
      "outputs": [],
      "execution_count": null
    }
  ]
}